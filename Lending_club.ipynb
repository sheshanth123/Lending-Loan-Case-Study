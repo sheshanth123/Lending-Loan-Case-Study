{
 "cells": [
  {
   "cell_type": "code",
   "execution_count": 578,
   "metadata": {},
   "outputs": [],
   "source": [
    "## ToDO: drop initial_list_status\n",
    "# out_prncp\n",
    "# out_prncp_inv\n",
    "# total_pymnt\n",
    "# total_pymnt_inv\n",
    "# total_rec_prncp\n",
    "# total_rec_int\n",
    "# total_rec_late_fee\n",
    "# recoveries\n",
    "# collection_recovery_fee\n",
    "# last_pymnt_d\n",
    "# last_pymnt_amnt\n",
    "# next_pymnt_d\n",
    "# last_credit_pull_d\n",
    "# collections_12_mths_ex_med\n",
    "# policy_code\n",
    "# application_type"
   ]
  },
  {
   "cell_type": "code",
   "execution_count": 495,
   "metadata": {},
   "outputs": [],
   "source": [
    "import pandas as pd\n",
    "import numpy as np\n",
    "import seaborn as sns\n",
    "import matplotlib.pyplot as plt\n",
    "import time\n",
    "\n",
    "% matplotlib inline"
   ]
  },
  {
   "cell_type": "code",
   "execution_count": 496,
   "metadata": {},
   "outputs": [],
   "source": [
    "#Read the data set\n",
    "loan_df= pd.read_csv('loan.csv', low_memory=False)\n",
    "dictionaries_df = pd.read_excel('Data_Dictionary.xlsx')"
   ]
  },
  {
   "cell_type": "code",
   "execution_count": 497,
   "metadata": {},
   "outputs": [
    {
     "data": {
      "text/plain": [
       "Index(['LoanStatNew', 'Description'], dtype='object')"
      ]
     },
     "execution_count": 497,
     "metadata": {},
     "output_type": "execute_result"
    }
   ],
   "source": [
    "dictionaries_df.columns"
   ]
  },
  {
   "cell_type": "code",
   "execution_count": 498,
   "metadata": {},
   "outputs": [],
   "source": [
    "def getColumnDescription(columnNames):\n",
    "    temp = dictionaries_df[columnNames]"
   ]
  },
  {
   "cell_type": "code",
   "execution_count": 499,
   "metadata": {
    "scrolled": true
   },
   "outputs": [
    {
     "data": {
      "text/html": [
       "<div>\n",
       "<style scoped>\n",
       "    .dataframe tbody tr th:only-of-type {\n",
       "        vertical-align: middle;\n",
       "    }\n",
       "\n",
       "    .dataframe tbody tr th {\n",
       "        vertical-align: top;\n",
       "    }\n",
       "\n",
       "    .dataframe thead th {\n",
       "        text-align: right;\n",
       "    }\n",
       "</style>\n",
       "<table border=\"1\" class=\"dataframe\">\n",
       "  <thead>\n",
       "    <tr style=\"text-align: right;\">\n",
       "      <th></th>\n",
       "      <th>id</th>\n",
       "      <th>member_id</th>\n",
       "      <th>loan_amnt</th>\n",
       "      <th>funded_amnt</th>\n",
       "      <th>funded_amnt_inv</th>\n",
       "      <th>term</th>\n",
       "      <th>int_rate</th>\n",
       "      <th>installment</th>\n",
       "      <th>grade</th>\n",
       "      <th>sub_grade</th>\n",
       "      <th>...</th>\n",
       "      <th>num_tl_90g_dpd_24m</th>\n",
       "      <th>num_tl_op_past_12m</th>\n",
       "      <th>pct_tl_nvr_dlq</th>\n",
       "      <th>percent_bc_gt_75</th>\n",
       "      <th>pub_rec_bankruptcies</th>\n",
       "      <th>tax_liens</th>\n",
       "      <th>tot_hi_cred_lim</th>\n",
       "      <th>total_bal_ex_mort</th>\n",
       "      <th>total_bc_limit</th>\n",
       "      <th>total_il_high_credit_limit</th>\n",
       "    </tr>\n",
       "  </thead>\n",
       "  <tbody>\n",
       "    <tr>\n",
       "      <th>0</th>\n",
       "      <td>1077501</td>\n",
       "      <td>1296599</td>\n",
       "      <td>5000</td>\n",
       "      <td>5000</td>\n",
       "      <td>4975.0</td>\n",
       "      <td>36 months</td>\n",
       "      <td>10.65%</td>\n",
       "      <td>162.87</td>\n",
       "      <td>B</td>\n",
       "      <td>B2</td>\n",
       "      <td>...</td>\n",
       "      <td>NaN</td>\n",
       "      <td>NaN</td>\n",
       "      <td>NaN</td>\n",
       "      <td>NaN</td>\n",
       "      <td>0.0</td>\n",
       "      <td>0.0</td>\n",
       "      <td>NaN</td>\n",
       "      <td>NaN</td>\n",
       "      <td>NaN</td>\n",
       "      <td>NaN</td>\n",
       "    </tr>\n",
       "    <tr>\n",
       "      <th>1</th>\n",
       "      <td>1077430</td>\n",
       "      <td>1314167</td>\n",
       "      <td>2500</td>\n",
       "      <td>2500</td>\n",
       "      <td>2500.0</td>\n",
       "      <td>60 months</td>\n",
       "      <td>15.27%</td>\n",
       "      <td>59.83</td>\n",
       "      <td>C</td>\n",
       "      <td>C4</td>\n",
       "      <td>...</td>\n",
       "      <td>NaN</td>\n",
       "      <td>NaN</td>\n",
       "      <td>NaN</td>\n",
       "      <td>NaN</td>\n",
       "      <td>0.0</td>\n",
       "      <td>0.0</td>\n",
       "      <td>NaN</td>\n",
       "      <td>NaN</td>\n",
       "      <td>NaN</td>\n",
       "      <td>NaN</td>\n",
       "    </tr>\n",
       "    <tr>\n",
       "      <th>2</th>\n",
       "      <td>1077175</td>\n",
       "      <td>1313524</td>\n",
       "      <td>2400</td>\n",
       "      <td>2400</td>\n",
       "      <td>2400.0</td>\n",
       "      <td>36 months</td>\n",
       "      <td>15.96%</td>\n",
       "      <td>84.33</td>\n",
       "      <td>C</td>\n",
       "      <td>C5</td>\n",
       "      <td>...</td>\n",
       "      <td>NaN</td>\n",
       "      <td>NaN</td>\n",
       "      <td>NaN</td>\n",
       "      <td>NaN</td>\n",
       "      <td>0.0</td>\n",
       "      <td>0.0</td>\n",
       "      <td>NaN</td>\n",
       "      <td>NaN</td>\n",
       "      <td>NaN</td>\n",
       "      <td>NaN</td>\n",
       "    </tr>\n",
       "    <tr>\n",
       "      <th>3</th>\n",
       "      <td>1076863</td>\n",
       "      <td>1277178</td>\n",
       "      <td>10000</td>\n",
       "      <td>10000</td>\n",
       "      <td>10000.0</td>\n",
       "      <td>36 months</td>\n",
       "      <td>13.49%</td>\n",
       "      <td>339.31</td>\n",
       "      <td>C</td>\n",
       "      <td>C1</td>\n",
       "      <td>...</td>\n",
       "      <td>NaN</td>\n",
       "      <td>NaN</td>\n",
       "      <td>NaN</td>\n",
       "      <td>NaN</td>\n",
       "      <td>0.0</td>\n",
       "      <td>0.0</td>\n",
       "      <td>NaN</td>\n",
       "      <td>NaN</td>\n",
       "      <td>NaN</td>\n",
       "      <td>NaN</td>\n",
       "    </tr>\n",
       "    <tr>\n",
       "      <th>4</th>\n",
       "      <td>1075358</td>\n",
       "      <td>1311748</td>\n",
       "      <td>3000</td>\n",
       "      <td>3000</td>\n",
       "      <td>3000.0</td>\n",
       "      <td>60 months</td>\n",
       "      <td>12.69%</td>\n",
       "      <td>67.79</td>\n",
       "      <td>B</td>\n",
       "      <td>B5</td>\n",
       "      <td>...</td>\n",
       "      <td>NaN</td>\n",
       "      <td>NaN</td>\n",
       "      <td>NaN</td>\n",
       "      <td>NaN</td>\n",
       "      <td>0.0</td>\n",
       "      <td>0.0</td>\n",
       "      <td>NaN</td>\n",
       "      <td>NaN</td>\n",
       "      <td>NaN</td>\n",
       "      <td>NaN</td>\n",
       "    </tr>\n",
       "  </tbody>\n",
       "</table>\n",
       "<p>5 rows × 111 columns</p>\n",
       "</div>"
      ],
      "text/plain": [
       "        id  member_id  loan_amnt  funded_amnt  funded_amnt_inv        term  \\\n",
       "0  1077501    1296599       5000         5000           4975.0   36 months   \n",
       "1  1077430    1314167       2500         2500           2500.0   60 months   \n",
       "2  1077175    1313524       2400         2400           2400.0   36 months   \n",
       "3  1076863    1277178      10000        10000          10000.0   36 months   \n",
       "4  1075358    1311748       3000         3000           3000.0   60 months   \n",
       "\n",
       "  int_rate  installment grade sub_grade            ...              \\\n",
       "0   10.65%       162.87     B        B2            ...               \n",
       "1   15.27%        59.83     C        C4            ...               \n",
       "2   15.96%        84.33     C        C5            ...               \n",
       "3   13.49%       339.31     C        C1            ...               \n",
       "4   12.69%        67.79     B        B5            ...               \n",
       "\n",
       "  num_tl_90g_dpd_24m num_tl_op_past_12m pct_tl_nvr_dlq  percent_bc_gt_75  \\\n",
       "0                NaN                NaN            NaN               NaN   \n",
       "1                NaN                NaN            NaN               NaN   \n",
       "2                NaN                NaN            NaN               NaN   \n",
       "3                NaN                NaN            NaN               NaN   \n",
       "4                NaN                NaN            NaN               NaN   \n",
       "\n",
       "  pub_rec_bankruptcies tax_liens tot_hi_cred_lim total_bal_ex_mort  \\\n",
       "0                  0.0       0.0             NaN               NaN   \n",
       "1                  0.0       0.0             NaN               NaN   \n",
       "2                  0.0       0.0             NaN               NaN   \n",
       "3                  0.0       0.0             NaN               NaN   \n",
       "4                  0.0       0.0             NaN               NaN   \n",
       "\n",
       "  total_bc_limit total_il_high_credit_limit  \n",
       "0            NaN                        NaN  \n",
       "1            NaN                        NaN  \n",
       "2            NaN                        NaN  \n",
       "3            NaN                        NaN  \n",
       "4            NaN                        NaN  \n",
       "\n",
       "[5 rows x 111 columns]"
      ]
     },
     "execution_count": 499,
     "metadata": {},
     "output_type": "execute_result"
    }
   ],
   "source": [
    "# Get the same of data set\n",
    "loan_df.head()"
   ]
  },
  {
   "cell_type": "code",
   "execution_count": 500,
   "metadata": {},
   "outputs": [
    {
     "data": {
      "text/plain": [
       "id                                False\n",
       "member_id                         False\n",
       "loan_amnt                         False\n",
       "funded_amnt                       False\n",
       "funded_amnt_inv                   False\n",
       "term                              False\n",
       "int_rate                          False\n",
       "installment                       False\n",
       "grade                             False\n",
       "sub_grade                         False\n",
       "emp_title                         False\n",
       "emp_length                        False\n",
       "home_ownership                    False\n",
       "annual_inc                        False\n",
       "verification_status               False\n",
       "issue_d                           False\n",
       "loan_status                       False\n",
       "pymnt_plan                        False\n",
       "url                               False\n",
       "desc                              False\n",
       "purpose                           False\n",
       "title                             False\n",
       "zip_code                          False\n",
       "addr_state                        False\n",
       "dti                               False\n",
       "delinq_2yrs                       False\n",
       "earliest_cr_line                  False\n",
       "inq_last_6mths                    False\n",
       "mths_since_last_delinq            False\n",
       "mths_since_last_record            False\n",
       "                                  ...  \n",
       "mo_sin_old_rev_tl_op               True\n",
       "mo_sin_rcnt_rev_tl_op              True\n",
       "mo_sin_rcnt_tl                     True\n",
       "mort_acc                           True\n",
       "mths_since_recent_bc               True\n",
       "mths_since_recent_bc_dlq           True\n",
       "mths_since_recent_inq              True\n",
       "mths_since_recent_revol_delinq     True\n",
       "num_accts_ever_120_pd              True\n",
       "num_actv_bc_tl                     True\n",
       "num_actv_rev_tl                    True\n",
       "num_bc_sats                        True\n",
       "num_bc_tl                          True\n",
       "num_il_tl                          True\n",
       "num_op_rev_tl                      True\n",
       "num_rev_accts                      True\n",
       "num_rev_tl_bal_gt_0                True\n",
       "num_sats                           True\n",
       "num_tl_120dpd_2m                   True\n",
       "num_tl_30dpd                       True\n",
       "num_tl_90g_dpd_24m                 True\n",
       "num_tl_op_past_12m                 True\n",
       "pct_tl_nvr_dlq                     True\n",
       "percent_bc_gt_75                   True\n",
       "pub_rec_bankruptcies              False\n",
       "tax_liens                         False\n",
       "tot_hi_cred_lim                    True\n",
       "total_bal_ex_mort                  True\n",
       "total_bc_limit                     True\n",
       "total_il_high_credit_limit         True\n",
       "Length: 111, dtype: bool"
      ]
     },
     "execution_count": 500,
     "metadata": {},
     "output_type": "execute_result"
    }
   ],
   "source": [
    "#Check if any of the columns have total null rows\n",
    "loan_df.isna().all()"
   ]
  },
  {
   "cell_type": "code",
   "execution_count": 501,
   "metadata": {},
   "outputs": [
    {
     "data": {
      "text/plain": [
       "54"
      ]
     },
     "execution_count": 501,
     "metadata": {},
     "output_type": "execute_result"
    }
   ],
   "source": [
    "# Get the number of rows that have all rows as null\n",
    "loan_df.isna().all().sum()"
   ]
  },
  {
   "cell_type": "code",
   "execution_count": 502,
   "metadata": {},
   "outputs": [],
   "source": [
    "# Drop the columns that that have all NaN rows\n",
    "loan_df.dropna(axis=1, how='all', inplace=True)"
   ]
  },
  {
   "cell_type": "code",
   "execution_count": 503,
   "metadata": {},
   "outputs": [
    {
     "name": "stdout",
     "output_type": "stream",
     "text": [
      "<class 'pandas.core.frame.DataFrame'>\n",
      "RangeIndex: 39717 entries, 0 to 39716\n",
      "Data columns (total 57 columns):\n",
      "id                            39717 non-null int64\n",
      "member_id                     39717 non-null int64\n",
      "loan_amnt                     39717 non-null int64\n",
      "funded_amnt                   39717 non-null int64\n",
      "funded_amnt_inv               39717 non-null float64\n",
      "term                          39717 non-null object\n",
      "int_rate                      39717 non-null object\n",
      "installment                   39717 non-null float64\n",
      "grade                         39717 non-null object\n",
      "sub_grade                     39717 non-null object\n",
      "emp_title                     37258 non-null object\n",
      "emp_length                    38642 non-null object\n",
      "home_ownership                39717 non-null object\n",
      "annual_inc                    39717 non-null float64\n",
      "verification_status           39717 non-null object\n",
      "issue_d                       39717 non-null object\n",
      "loan_status                   39717 non-null object\n",
      "pymnt_plan                    39717 non-null object\n",
      "url                           39717 non-null object\n",
      "desc                          26777 non-null object\n",
      "purpose                       39717 non-null object\n",
      "title                         39706 non-null object\n",
      "zip_code                      39717 non-null object\n",
      "addr_state                    39717 non-null object\n",
      "dti                           39717 non-null float64\n",
      "delinq_2yrs                   39717 non-null int64\n",
      "earliest_cr_line              39717 non-null object\n",
      "inq_last_6mths                39717 non-null int64\n",
      "mths_since_last_delinq        14035 non-null float64\n",
      "mths_since_last_record        2786 non-null float64\n",
      "open_acc                      39717 non-null int64\n",
      "pub_rec                       39717 non-null int64\n",
      "revol_bal                     39717 non-null int64\n",
      "revol_util                    39667 non-null object\n",
      "total_acc                     39717 non-null int64\n",
      "initial_list_status           39717 non-null object\n",
      "out_prncp                     39717 non-null float64\n",
      "out_prncp_inv                 39717 non-null float64\n",
      "total_pymnt                   39717 non-null float64\n",
      "total_pymnt_inv               39717 non-null float64\n",
      "total_rec_prncp               39717 non-null float64\n",
      "total_rec_int                 39717 non-null float64\n",
      "total_rec_late_fee            39717 non-null float64\n",
      "recoveries                    39717 non-null float64\n",
      "collection_recovery_fee       39717 non-null float64\n",
      "last_pymnt_d                  39646 non-null object\n",
      "last_pymnt_amnt               39717 non-null float64\n",
      "next_pymnt_d                  1140 non-null object\n",
      "last_credit_pull_d            39715 non-null object\n",
      "collections_12_mths_ex_med    39661 non-null float64\n",
      "policy_code                   39717 non-null int64\n",
      "application_type              39717 non-null object\n",
      "acc_now_delinq                39717 non-null int64\n",
      "chargeoff_within_12_mths      39661 non-null float64\n",
      "delinq_amnt                   39717 non-null int64\n",
      "pub_rec_bankruptcies          39020 non-null float64\n",
      "tax_liens                     39678 non-null float64\n",
      "dtypes: float64(20), int64(13), object(24)\n",
      "memory usage: 17.3+ MB\n"
     ]
    }
   ],
   "source": [
    "loan_df.info()"
   ]
  },
  {
   "cell_type": "code",
   "execution_count": 504,
   "metadata": {},
   "outputs": [
    {
     "data": {
      "text/plain": [
       "Index(['id', 'member_id', 'loan_amnt', 'funded_amnt', 'funded_amnt_inv',\n",
       "       'term', 'int_rate', 'installment', 'grade', 'sub_grade', 'emp_title',\n",
       "       'emp_length', 'home_ownership', 'annual_inc', 'verification_status',\n",
       "       'issue_d', 'loan_status', 'pymnt_plan', 'url', 'desc', 'purpose',\n",
       "       'title', 'zip_code', 'addr_state', 'dti', 'delinq_2yrs',\n",
       "       'earliest_cr_line', 'inq_last_6mths', 'mths_since_last_delinq',\n",
       "       'mths_since_last_record', 'open_acc', 'pub_rec', 'revol_bal',\n",
       "       'revol_util', 'total_acc', 'initial_list_status', 'out_prncp',\n",
       "       'out_prncp_inv', 'total_pymnt', 'total_pymnt_inv', 'total_rec_prncp',\n",
       "       'total_rec_int', 'total_rec_late_fee', 'recoveries',\n",
       "       'collection_recovery_fee', 'last_pymnt_d', 'last_pymnt_amnt',\n",
       "       'next_pymnt_d', 'last_credit_pull_d', 'collections_12_mths_ex_med',\n",
       "       'policy_code', 'application_type', 'acc_now_delinq',\n",
       "       'chargeoff_within_12_mths', 'delinq_amnt', 'pub_rec_bankruptcies',\n",
       "       'tax_liens'],\n",
       "      dtype='object')"
      ]
     },
     "execution_count": 504,
     "metadata": {},
     "output_type": "execute_result"
    }
   ],
   "source": [
    "loan_df.columns"
   ]
  },
  {
   "cell_type": "code",
   "execution_count": 505,
   "metadata": {},
   "outputs": [
    {
     "data": {
      "text/plain": [
       "pymnt_plan\n",
       "n    39717\n",
       "dtype: int64"
      ]
     },
     "execution_count": 505,
     "metadata": {},
     "output_type": "execute_result"
    }
   ],
   "source": [
    "loan_df.groupby(by='pymnt_plan').size()"
   ]
  },
  {
   "cell_type": "code",
   "execution_count": 506,
   "metadata": {},
   "outputs": [],
   "source": [
    "#since all of them have payment plan set as 'n' we can remove this column altogether\n",
    "loan_df.drop(columns='pymnt_plan', inplace=True)"
   ]
  },
  {
   "cell_type": "markdown",
   "metadata": {},
   "source": [
    "##### First we need to understand which of the columns needs to be retained"
   ]
  },
  {
   "cell_type": "code",
   "execution_count": 507,
   "metadata": {},
   "outputs": [],
   "source": [
    "# Drop irrelavant columns such as id, desc, url, title\n",
    "# id = A unique LC assigned ID for the loan listing.\n",
    "# desc = Loan description provided by the borrower\n",
    "# url = URL for the LC page with listing data.\n",
    "\n",
    "loan_df.drop(columns=['id', 'url', 'desc'], inplace=True)"
   ]
  },
  {
   "cell_type": "code",
   "execution_count": 508,
   "metadata": {},
   "outputs": [],
   "source": [
    "# we will drop emp_title\n",
    "loan_df.drop(columns='emp_title', inplace=True)"
   ]
  },
  {
   "cell_type": "code",
   "execution_count": 509,
   "metadata": {},
   "outputs": [],
   "source": [
    "# We will drop the title\n",
    "loan_df.drop(columns='title', inplace=True)"
   ]
  },
  {
   "cell_type": "code",
   "execution_count": 510,
   "metadata": {},
   "outputs": [
    {
     "data": {
      "text/plain": [
       "Index(['member_id', 'loan_amnt', 'funded_amnt', 'funded_amnt_inv', 'term',\n",
       "       'int_rate', 'installment', 'grade', 'sub_grade', 'emp_length',\n",
       "       'home_ownership', 'annual_inc', 'verification_status', 'issue_d',\n",
       "       'loan_status', 'purpose', 'zip_code', 'addr_state', 'dti',\n",
       "       'delinq_2yrs', 'earliest_cr_line', 'inq_last_6mths',\n",
       "       'mths_since_last_delinq', 'mths_since_last_record', 'open_acc',\n",
       "       'pub_rec', 'revol_bal', 'revol_util', 'total_acc',\n",
       "       'initial_list_status', 'out_prncp', 'out_prncp_inv', 'total_pymnt',\n",
       "       'total_pymnt_inv', 'total_rec_prncp', 'total_rec_int',\n",
       "       'total_rec_late_fee', 'recoveries', 'collection_recovery_fee',\n",
       "       'last_pymnt_d', 'last_pymnt_amnt', 'next_pymnt_d', 'last_credit_pull_d',\n",
       "       'collections_12_mths_ex_med', 'policy_code', 'application_type',\n",
       "       'acc_now_delinq', 'chargeoff_within_12_mths', 'delinq_amnt',\n",
       "       'pub_rec_bankruptcies', 'tax_liens'],\n",
       "      dtype='object')"
      ]
     },
     "execution_count": 510,
     "metadata": {},
     "output_type": "execute_result"
    }
   ],
   "source": [
    "loan_df.columns"
   ]
  },
  {
   "cell_type": "markdown",
   "metadata": {},
   "source": [
    "### Univariate Ananlysis"
   ]
  },
  {
   "cell_type": "code",
   "execution_count": 511,
   "metadata": {},
   "outputs": [],
   "source": [
    "#Which year issued the most loans. Formats from http://strftime.org/\n",
    "loan_df['loan_issue_year'] = pd.to_datetime(loan_df['issue_d'], format='%b-%y').dt.year"
   ]
  },
  {
   "cell_type": "code",
   "execution_count": 512,
   "metadata": {},
   "outputs": [
    {
     "data": {
      "text/plain": [
       "0        2011\n",
       "1        2011\n",
       "2        2011\n",
       "3        2011\n",
       "4        2011\n",
       "5        2011\n",
       "6        2011\n",
       "7        2011\n",
       "8        2011\n",
       "9        2011\n",
       "10       2011\n",
       "11       2011\n",
       "12       2011\n",
       "13       2011\n",
       "14       2011\n",
       "15       2011\n",
       "16       2011\n",
       "17       2011\n",
       "18       2011\n",
       "19       2011\n",
       "20       2011\n",
       "21       2011\n",
       "22       2011\n",
       "23       2011\n",
       "24       2011\n",
       "25       2011\n",
       "26       2011\n",
       "27       2011\n",
       "28       2011\n",
       "29       2011\n",
       "         ... \n",
       "39687    2007\n",
       "39688    2007\n",
       "39689    2007\n",
       "39690    2007\n",
       "39691    2007\n",
       "39692    2007\n",
       "39693    2007\n",
       "39694    2007\n",
       "39695    2007\n",
       "39696    2007\n",
       "39697    2007\n",
       "39698    2007\n",
       "39699    2007\n",
       "39700    2007\n",
       "39701    2007\n",
       "39702    2007\n",
       "39703    2007\n",
       "39704    2007\n",
       "39705    2007\n",
       "39706    2007\n",
       "39707    2007\n",
       "39708    2007\n",
       "39709    2007\n",
       "39710    2007\n",
       "39711    2007\n",
       "39712    2007\n",
       "39713    2007\n",
       "39714    2007\n",
       "39715    2007\n",
       "39716    2007\n",
       "Name: loan_issue_year, Length: 39717, dtype: int64"
      ]
     },
     "execution_count": 512,
     "metadata": {},
     "output_type": "execute_result"
    }
   ],
   "source": [
    "loan_df['loan_issue_year']"
   ]
  },
  {
   "cell_type": "code",
   "execution_count": 513,
   "metadata": {},
   "outputs": [
    {
     "data": {
      "text/plain": [
       "Text(0,0.5,'Loan Amount')"
      ]
     },
     "execution_count": 513,
     "metadata": {},
     "output_type": "execute_result"
    },
    {
     "data": {
      "image/png": "[encoded data removed]",
      "text/plain": [
       "<Figure size 432x288 with 1 Axes>"
      ]
     },
     "metadata": {},
     "output_type": "display_data"
    }
   ],
   "source": [
    "sns.barplot(x='loan_issue_year', y='loan_amnt', data=loan_df)\n",
    "plt.title(\"Number of Loans Issued by year\")\n",
    "plt.xlabel(\"Issue Year\")\n",
    "plt.ylabel(\"Loan Amount\")"
   ]
  },
  {
   "cell_type": "markdown",
   "metadata": {},
   "source": [
    "> ##### The total number of loans issued were in the year 2011"
   ]
  },
  {
   "cell_type": "code",
   "execution_count": 514,
   "metadata": {},
   "outputs": [
    {
     "data": {
      "text/plain": [
       "Index(['member_id', 'loan_amnt', 'funded_amnt', 'funded_amnt_inv', 'term',\n",
       "       'int_rate', 'installment', 'grade', 'sub_grade', 'emp_length',\n",
       "       'home_ownership', 'annual_inc', 'verification_status', 'issue_d',\n",
       "       'loan_status', 'purpose', 'zip_code', 'addr_state', 'dti',\n",
       "       'delinq_2yrs', 'earliest_cr_line', 'inq_last_6mths',\n",
       "       'mths_since_last_delinq', 'mths_since_last_record', 'open_acc',\n",
       "       'pub_rec', 'revol_bal', 'revol_util', 'total_acc',\n",
       "       'initial_list_status', 'out_prncp', 'out_prncp_inv', 'total_pymnt',\n",
       "       'total_pymnt_inv', 'total_rec_prncp', 'total_rec_int',\n",
       "       'total_rec_late_fee', 'recoveries', 'collection_recovery_fee',\n",
       "       'last_pymnt_d', 'last_pymnt_amnt', 'next_pymnt_d', 'last_credit_pull_d',\n",
       "       'collections_12_mths_ex_med', 'policy_code', 'application_type',\n",
       "       'acc_now_delinq', 'chargeoff_within_12_mths', 'delinq_amnt',\n",
       "       'pub_rec_bankruptcies', 'tax_liens', 'loan_issue_year'],\n",
       "      dtype='object')"
      ]
     },
     "execution_count": 514,
     "metadata": {},
     "output_type": "execute_result"
    }
   ],
   "source": [
    "loan_df.columns"
   ]
  },
  {
   "cell_type": "code",
   "execution_count": 515,
   "metadata": {},
   "outputs": [
    {
     "data": {
      "text/plain": [
       "<matplotlib.axes._subplots.AxesSubplot at 0x1ecc8032ac8>"
      ]
     },
     "execution_count": 515,
     "metadata": {},
     "output_type": "execute_result"
    },
    {
     "data": {
      "image/png": "[encoded data removed]",
      "text/plain": [
       "<Figure size 1152x360 with 3 Axes>"
      ]
     },
     "metadata": {},
     "output_type": "display_data"
    }
   ],
   "source": [
    "fig, sb_plt = plt.subplots(1, 3, figsize=(16,5))\n",
    "loan_amount = loan_df['loan_amnt'].values\n",
    "funded_amount = loan_df['funded_amnt'].values\n",
    "funded_amount_by_investors = loan_df['funded_amnt_inv'].values\n",
    "sns.distplot(loan_amount, ax=sb_plt[0], color='r')\n",
    "sns.distplot(funded_amount, ax=sb_plt[1], color='b')\n",
    "sns.distplot(funded_amount_by_investors, ax=sb_plt[2], color='g')"
   ]
  },
  {
   "cell_type": "code",
   "execution_count": 516,
   "metadata": {},
   "outputs": [
    {
     "data": {
      "text/plain": [
       "Index(['member_id', 'loan_amnt', 'funded_amnt', 'funded_amnt_inv', 'term',\n",
       "       'int_rate', 'installment', 'grade', 'sub_grade', 'emp_length',\n",
       "       'home_ownership', 'annual_inc', 'verification_status', 'issue_d',\n",
       "       'loan_status', 'purpose', 'zip_code', 'addr_state', 'dti',\n",
       "       'delinq_2yrs', 'earliest_cr_line', 'inq_last_6mths',\n",
       "       'mths_since_last_delinq', 'mths_since_last_record', 'open_acc',\n",
       "       'pub_rec', 'revol_bal', 'revol_util', 'total_acc',\n",
       "       'initial_list_status', 'out_prncp', 'out_prncp_inv', 'total_pymnt',\n",
       "       'total_pymnt_inv', 'total_rec_prncp', 'total_rec_int',\n",
       "       'total_rec_late_fee', 'recoveries', 'collection_recovery_fee',\n",
       "       'last_pymnt_d', 'last_pymnt_amnt', 'next_pymnt_d', 'last_credit_pull_d',\n",
       "       'collections_12_mths_ex_med', 'policy_code', 'application_type',\n",
       "       'acc_now_delinq', 'chargeoff_within_12_mths', 'delinq_amnt',\n",
       "       'pub_rec_bankruptcies', 'tax_liens', 'loan_issue_year'],\n",
       "      dtype='object')"
      ]
     },
     "execution_count": 516,
     "metadata": {},
     "output_type": "execute_result"
    }
   ],
   "source": [
    "loan_df.columns"
   ]
  },
  {
   "cell_type": "code",
   "execution_count": 517,
   "metadata": {},
   "outputs": [
    {
     "data": {
      "text/plain": [
       "Fully Paid     32950\n",
       "Charged Off     5627\n",
       "Current         1140\n",
       "Name: loan_status, dtype: int64"
      ]
     },
     "execution_count": 517,
     "metadata": {},
     "output_type": "execute_result"
    }
   ],
   "source": [
    "# Fully paid\n",
    "# Charged off = defaulters\n",
    "# Current - \n",
    "loan_df['loan_status']\n",
    "loan_df['loan_status'].value_counts()"
   ]
  },
  {
   "cell_type": "code",
   "execution_count": 518,
   "metadata": {},
   "outputs": [
    {
     "data": {
      "text/plain": [
       "([<matplotlib.patches.Wedge at 0x1ecc3959710>,\n",
       "  <matplotlib.patches.Wedge at 0x1ecc3959eb8>,\n",
       "  <matplotlib.patches.Wedge at 0x1ecc3960710>],\n",
       " [Text(-1.41922,0.841615,'Fully Paid'),\n",
       "  Text(1.54034,-1.11236,'Charged Off'),\n",
       "  Text(1.6433,-0.148584,'Current')])"
      ]
     },
     "execution_count": 518,
     "metadata": {},
     "output_type": "execute_result"
    },
    {
     "data": {
      "image/png": "[encoded data removed]",
      "text/plain": [
       "<Figure size 432x288 with 1 Axes>"
      ]
     },
     "metadata": {},
     "output_type": "display_data"
    }
   ],
   "source": [
    "plt.pie(loan_df['loan_status'].value_counts(), \n",
    "        labels=['Fully Paid', 'Charged Off', 'Current'], shadow=True, explode=[0,0.25,0], radius=1.5)"
   ]
  },
  {
   "cell_type": "code",
   "execution_count": 522,
   "metadata": {},
   "outputs": [
    {
     "data": {
      "text/plain": [
       "<matplotlib.axes._subplots.AxesSubplot at 0x1ecc397a898>"
      ]
     },
     "execution_count": 522,
     "metadata": {},
     "output_type": "execute_result"
    },
    {
     "data": {
      "image/png": "[encoded data removed]",
      "text/plain": [
       "<Figure size 432x288 with 1 Axes>"
      ]
     },
     "metadata": {},
     "output_type": "display_data"
    }
   ],
   "source": [
    "loan_df.groupby(by='loan_status').size().plot(kind='bar')"
   ]
  },
  {
   "cell_type": "markdown",
   "metadata": {},
   "source": [
    "### Since we are only interested in driving factors of the loans that would be defaulted, we would be dropping the rows with loan status 'Fully Paid' and 'Current'"
   ]
  },
  {
   "cell_type": "code",
   "execution_count": 523,
   "metadata": {},
   "outputs": [],
   "source": [
    "loan_df.drop(loan_df[loan_df['loan_status'] != 'Charged Off'].index, inplace=True)"
   ]
  },
  {
   "cell_type": "code",
   "execution_count": 524,
   "metadata": {},
   "outputs": [
    {
     "data": {
      "text/plain": [
       "5627"
      ]
     },
     "execution_count": 524,
     "metadata": {},
     "output_type": "execute_result"
    }
   ],
   "source": [
    "sum(loan_df['loan_status'] == 'Charged Off')"
   ]
  },
  {
   "cell_type": "code",
   "execution_count": 525,
   "metadata": {},
   "outputs": [],
   "source": [
    "# Reset the index of rows\n",
    "loan_df.reset_index(inplace=True)"
   ]
  },
  {
   "cell_type": "code",
   "execution_count": 526,
   "metadata": {},
   "outputs": [],
   "source": [
    "#charged off loans by year\n",
    "charged_off_loan_by_year = loan_df.groupby('loan_issue_year')\n",
    "temp = charged_off_loan_by_year['loan_status'].value_counts()\n",
    "#charged_off_loan_by_year['']"
   ]
  },
  {
   "cell_type": "markdown",
   "metadata": {},
   "source": [
    "### Q. How many loans were defaulted by year"
   ]
  },
  {
   "cell_type": "code",
   "execution_count": 527,
   "metadata": {},
   "outputs": [
    {
     "data": {
      "text/plain": [
       "Text(0,0.5,\"'Charged Off' Loan count \")"
      ]
     },
     "execution_count": 527,
     "metadata": {},
     "output_type": "execute_result"
    },
    {
     "data": {
      "image/png": "[encoded data removed]",
      "text/plain": [
       "<Figure size 432x288 with 1 Axes>"
      ]
     },
     "metadata": {},
     "output_type": "display_data"
    }
   ],
   "source": [
    "grouped_by_year = loan_df.groupby(loan_df['loan_issue_year'])\n",
    "grouped_by_year.size().plot(kind='bar')\n",
    "plt.title(\"Number of \\'Charged Off\\' Loans issued by year\")\n",
    "plt.xlabel('Loan issue year')\n",
    "plt.ylabel('\\'Charged Off\\' Loan count ')"
   ]
  },
  {
   "cell_type": "code",
   "execution_count": 528,
   "metadata": {},
   "outputs": [
    {
     "data": {
      "text/plain": [
       "<matplotlib.axes._subplots.AxesSubplot at 0x1ecc3a2fbe0>"
      ]
     },
     "execution_count": 528,
     "metadata": {},
     "output_type": "execute_result"
    },
    {
     "data": {
      "image/png": "[encoded data removed]",
      "text/plain": [
       "<Figure size 1152x360 with 1 Axes>"
      ]
     },
     "metadata": {},
     "output_type": "display_data"
    }
   ],
   "source": [
    "# charged off loans by state\n",
    "# temp['count'] = loan_charged_off_plt.groupby(loan_charged_off_plt['addr_state']).size()\n",
    "# temp['state'] = loan_charged_off_plt.groupby(loan_charged_off_plt['addr_state']).size().index\n",
    "# plt.subplots(1, 1, figsize=(16,5))\n",
    "# sns.barplot(x='state', y='count', data=temp)\n",
    "plt.subplots(1, 1, figsize=(16,5))\n",
    "loan_df.groupby(loan_df['addr_state']).size().plot(kind='bar')"
   ]
  },
  {
   "cell_type": "code",
   "execution_count": 529,
   "metadata": {},
   "outputs": [
    {
     "data": {
      "text/plain": [
       "(5627, 53)"
      ]
     },
     "execution_count": 529,
     "metadata": {},
     "output_type": "execute_result"
    }
   ],
   "source": [
    "loan_df.shape"
   ]
  },
  {
   "cell_type": "code",
   "execution_count": 530,
   "metadata": {},
   "outputs": [
    {
     "name": "stdout",
     "output_type": "stream",
     "text": [
      "0.0\n",
      "0.0\n",
      "0.0\n",
      "0.0\n",
      "0.0\n",
      "0.0\n",
      "0.0\n",
      "0.0\n",
      "0.0\n",
      "0.0\n",
      "4.051892660387417\n",
      "0.0\n",
      "0.0\n",
      "0.0\n",
      "0.0\n",
      "0.0\n",
      "0.0\n",
      "0.0\n",
      "0.0\n",
      "0.0\n",
      "0.0\n",
      "0.0\n",
      "0.0\n",
      "61.933534743202415\n",
      "89.72809667673715\n",
      "0.0\n",
      "0.0\n",
      "0.0\n",
      "0.28434334458859073\n",
      "0.0\n",
      "0.0\n",
      "0.0\n",
      "0.0\n",
      "0.0\n",
      "0.0\n",
      "0.0\n",
      "0.0\n",
      "0.0\n",
      "0.0\n",
      "0.0\n",
      "1.2617735916118713\n",
      "0.0\n",
      "100.0\n",
      "0.01777145903678692\n",
      "0.10662875422072153\n",
      "0.0\n",
      "0.0\n",
      "0.0\n",
      "0.10662875422072153\n",
      "0.0\n",
      "2.097032166340856\n",
      "0.01777145903678692\n",
      "0.0\n"
     ]
    }
   ],
   "source": [
    "for column in loan_df.columns:\n",
    "    percentage_of_missing_rows = sum(loan_df[column].isna())/5627 * 100\n",
    "    print(percentage_of_missing_rows)"
   ]
  },
  {
   "cell_type": "code",
   "execution_count": 531,
   "metadata": {},
   "outputs": [],
   "source": [
    "loan_df.dropna(axis=1, how='all', inplace=True)"
   ]
  },
  {
   "cell_type": "code",
   "execution_count": 532,
   "metadata": {},
   "outputs": [
    {
     "name": "stdout",
     "output_type": "stream",
     "text": [
      "mths_since_last_delinq\n",
      "mths_since_last_record\n"
     ]
    }
   ],
   "source": [
    "for column in loan_df.columns:\n",
    "    percentage_of_missing_rows = sum(loan_df[column].isna())/5627 * 100\n",
    "    if(percentage_of_missing_rows > 50):\n",
    "        print(column)"
   ]
  },
  {
   "cell_type": "markdown",
   "metadata": {},
   "source": [
    "### Q. Are there any members who have taken loans more than once"
   ]
  },
  {
   "cell_type": "code",
   "execution_count": 533,
   "metadata": {},
   "outputs": [
    {
     "data": {
      "text/plain": [
       "0"
      ]
     },
     "execution_count": 533,
     "metadata": {},
     "output_type": "execute_result"
    }
   ],
   "source": [
    "loan_df.duplicated().sum()"
   ]
  },
  {
   "cell_type": "markdown",
   "metadata": {},
   "source": [
    "> ##### None of the members have taken loans more than once"
   ]
  },
  {
   "cell_type": "markdown",
   "metadata": {},
   "source": [
    "### Q. Did all of the members had their income verified by LC or if the income source was verified"
   ]
  },
  {
   "cell_type": "code",
   "execution_count": 534,
   "metadata": {},
   "outputs": [
    {
     "data": {
      "text/plain": [
       "0"
      ]
     },
     "execution_count": 534,
     "metadata": {},
     "output_type": "execute_result"
    }
   ],
   "source": [
    "# lets check if there are any missing values in this column\n",
    "loan_df['verification_status'].isna().sum()"
   ]
  },
  {
   "cell_type": "code",
   "execution_count": 535,
   "metadata": {},
   "outputs": [
    {
     "data": {
      "text/plain": [
       "verification_status\n",
       "Not Verified       2142\n",
       "Source Verified    1434\n",
       "Verified           2051\n",
       "dtype: int64"
      ]
     },
     "execution_count": 535,
     "metadata": {},
     "output_type": "execute_result"
    }
   ],
   "source": [
    "#Lets check the verification_status available\n",
    "loan_df.groupby(by='verification_status').size()"
   ]
  },
  {
   "cell_type": "markdown",
   "metadata": {},
   "source": [
    "**The 'verification_status' of loans can be 'Not Verified', 'Source Verified' and 'Verified'**"
   ]
  },
  {
   "cell_type": "code",
   "execution_count": 536,
   "metadata": {},
   "outputs": [
    {
     "data": {
      "text/plain": [
       "<matplotlib.axes._subplots.AxesSubplot at 0x1ecc83b5278>"
      ]
     },
     "execution_count": 536,
     "metadata": {},
     "output_type": "execute_result"
    },
    {
     "data": {
      "image/png": "[encoded data removed]",
      "text/plain": [
       "<Figure size 432x288 with 1 Axes>"
      ]
     },
     "metadata": {},
     "output_type": "display_data"
    }
   ],
   "source": [
    "#Lets plot it in a graph \n",
    "loan_df.groupby(by='verification_status').size().plot(kind='bar')"
   ]
  },
  {
   "cell_type": "code",
   "execution_count": 537,
   "metadata": {},
   "outputs": [
    {
     "data": {
      "text/plain": [
       "0        60 months\n",
       "1        60 months\n",
       "2        60 months\n",
       "3        36 months\n",
       "4        36 months\n",
       "5        36 months\n",
       "6        36 months\n",
       "7        36 months\n",
       "8        60 months\n",
       "9        36 months\n",
       "10       36 months\n",
       "11       36 months\n",
       "12       60 months\n",
       "13       60 months\n",
       "14       60 months\n",
       "15       60 months\n",
       "16       36 months\n",
       "17       60 months\n",
       "18       36 months\n",
       "19       60 months\n",
       "20       36 months\n",
       "21       60 months\n",
       "22       36 months\n",
       "23       60 months\n",
       "24       36 months\n",
       "25       36 months\n",
       "26       36 months\n",
       "27       36 months\n",
       "28       60 months\n",
       "29       36 months\n",
       "           ...    \n",
       "5597     36 months\n",
       "5598     36 months\n",
       "5599     36 months\n",
       "5600     36 months\n",
       "5601     36 months\n",
       "5602     36 months\n",
       "5603     36 months\n",
       "5604     36 months\n",
       "5605     36 months\n",
       "5606     36 months\n",
       "5607     36 months\n",
       "5608     36 months\n",
       "5609     36 months\n",
       "5610     36 months\n",
       "5611     36 months\n",
       "5612     36 months\n",
       "5613     36 months\n",
       "5614     36 months\n",
       "5615     36 months\n",
       "5616     36 months\n",
       "5617     36 months\n",
       "5618     36 months\n",
       "5619     36 months\n",
       "5620     36 months\n",
       "5621     36 months\n",
       "5622     36 months\n",
       "5623     36 months\n",
       "5624     36 months\n",
       "5625     36 months\n",
       "5626     36 months\n",
       "Name: term, Length: 5627, dtype: object"
      ]
     },
     "execution_count": 537,
     "metadata": {},
     "output_type": "execute_result"
    }
   ],
   "source": [
    "loan_df['term']"
   ]
  },
  {
   "cell_type": "markdown",
   "metadata": {},
   "source": [
    "### Q. The Charged off loan borrowers term information"
   ]
  },
  {
   "cell_type": "code",
   "execution_count": 538,
   "metadata": {},
   "outputs": [
    {
     "data": {
      "text/plain": [
       "term\n",
       " 36 months    3227\n",
       " 60 months    2400\n",
       "dtype: int64"
      ]
     },
     "execution_count": 538,
     "metadata": {},
     "output_type": "execute_result"
    }
   ],
   "source": [
    "loan_df.groupby(by='term').size()"
   ]
  },
  {
   "cell_type": "markdown",
   "metadata": {},
   "source": [
    "> ** Most of the loan borrowers have taken loan for either 36 months or 60 months**"
   ]
  },
  {
   "cell_type": "markdown",
   "metadata": {},
   "source": [
    "## Q. What is emp_length of the borrowers who are Charged Off"
   ]
  },
  {
   "cell_type": "code",
   "execution_count": 539,
   "metadata": {},
   "outputs": [
    {
     "data": {
      "text/plain": [
       "emp_length\n",
       "1 year        456\n",
       "10+ years    1331\n",
       "2 years       567\n",
       "3 years       555\n",
       "4 years       462\n",
       "5 years       458\n",
       "6 years       307\n",
       "7 years       263\n",
       "8 years       203\n",
       "9 years       158\n",
       "< 1 year      639\n",
       "dtype: int64"
      ]
     },
     "execution_count": 539,
     "metadata": {},
     "output_type": "execute_result"
    }
   ],
   "source": [
    "loan_df.groupby(by='emp_length').size()"
   ]
  },
  {
   "cell_type": "markdown",
   "metadata": {},
   "source": [
    "## Home ownership details"
   ]
  },
  {
   "cell_type": "code",
   "execution_count": 540,
   "metadata": {},
   "outputs": [
    {
     "data": {
      "text/plain": [
       "home_ownership\n",
       "MORTGAGE    2327\n",
       "OTHER         18\n",
       "OWN          443\n",
       "RENT        2839\n",
       "dtype: int64"
      ]
     },
     "execution_count": 540,
     "metadata": {},
     "output_type": "execute_result"
    }
   ],
   "source": [
    "loan_df.groupby(by='home_ownership').size()"
   ]
  },
  {
   "cell_type": "markdown",
   "metadata": {},
   "source": [
    "> ** Looks like most of the borrowers are either on mortgage or on rent**"
   ]
  },
  {
   "cell_type": "markdown",
   "metadata": {},
   "source": [
    "## Annual increment details of the borrowers"
   ]
  },
  {
   "cell_type": "code",
   "execution_count": 541,
   "metadata": {},
   "outputs": [
    {
     "data": {
      "text/plain": [
       "0        30000.0\n",
       "1        40000.0\n",
       "2        15000.0\n",
       "3        30000.0\n",
       "4       100000.0\n",
       "5       105000.0\n",
       "6        76000.0\n",
       "7        60000.0\n",
       "8        50004.0\n",
       "9       100000.0\n",
       "10       80000.0\n",
       "11       50000.0\n",
       "12       50000.0\n",
       "13       45996.0\n",
       "14       30000.0\n",
       "15       75000.0\n",
       "16       75000.0\n",
       "17       45000.0\n",
       "18       25000.0\n",
       "19       38000.0\n",
       "20       75000.0\n",
       "21       67000.0\n",
       "22       45000.0\n",
       "23       52000.0\n",
       "24       90000.0\n",
       "25       41000.0\n",
       "26       42000.0\n",
       "27       60000.0\n",
       "28       25000.0\n",
       "29       85000.0\n",
       "          ...   \n",
       "5597     44000.0\n",
       "5598     40000.0\n",
       "5599     44400.0\n",
       "5600     12000.0\n",
       "5601    616000.0\n",
       "5602     51000.0\n",
       "5603    275000.0\n",
       "5604    120000.0\n",
       "5605    109000.0\n",
       "5606     75000.0\n",
       "5607     85000.0\n",
       "5608     60000.0\n",
       "5609     35000.0\n",
       "5610     39000.0\n",
       "5611     29120.0\n",
       "5612     12500.0\n",
       "5613     10000.0\n",
       "5614     45600.0\n",
       "5615     39000.0\n",
       "5616     62200.0\n",
       "5617     70000.0\n",
       "5618     96000.0\n",
       "5619     15000.0\n",
       "5620     96000.0\n",
       "5621     40000.0\n",
       "5622     32000.0\n",
       "5623     75000.0\n",
       "5624    213000.0\n",
       "5625     33990.0\n",
       "5626    145000.0\n",
       "Name: annual_inc, Length: 5627, dtype: float64"
      ]
     },
     "execution_count": 541,
     "metadata": {},
     "output_type": "execute_result"
    }
   ],
   "source": [
    "loan_df['annual_inc']"
   ]
  },
  {
   "cell_type": "code",
   "execution_count": 544,
   "metadata": {},
   "outputs": [
    {
     "data": {
      "text/plain": [
       "0"
      ]
     },
     "execution_count": 544,
     "metadata": {},
     "output_type": "execute_result"
    }
   ],
   "source": [
    "## TODO : annual_inc\n",
    "loan_df['annual_inc']\n",
    "sns.boxplot\n"
   ]
  },
  {
   "cell_type": "code",
   "execution_count": 547,
   "metadata": {},
   "outputs": [
    {
     "data": {
      "text/plain": [
       "False"
      ]
     },
     "execution_count": 547,
     "metadata": {},
     "output_type": "execute_result"
    }
   ],
   "source": [
    "loan_df['purpose'].isna().any()"
   ]
  },
  {
   "cell_type": "markdown",
   "metadata": {},
   "source": [
    "## Q. Why did most of the borrowers took the money for"
   ]
  },
  {
   "cell_type": "code",
   "execution_count": 546,
   "metadata": {},
   "outputs": [
    {
     "data": {
      "text/plain": [
       "purpose\n",
       "car                    160\n",
       "credit_card            542\n",
       "debt_consolidation    2767\n",
       "educational             56\n",
       "home_improvement       347\n",
       "house                   59\n",
       "major_purchase         222\n",
       "medical                106\n",
       "moving                  92\n",
       "other                  633\n",
       "renewable_energy        19\n",
       "small_business         475\n",
       "vacation                53\n",
       "wedding                 96\n",
       "dtype: int64"
      ]
     },
     "execution_count": 546,
     "metadata": {},
     "output_type": "execute_result"
    }
   ],
   "source": [
    "loan_df.groupby(by='purpose').size()"
   ]
  },
  {
   "cell_type": "markdown",
   "metadata": {},
   "source": [
    "## Q. What is the DTI Debt-To-Income Ratio - DTI of borrowers"
   ]
  },
  {
   "cell_type": "code",
   "execution_count": 549,
   "metadata": {},
   "outputs": [
    {
     "data": {
      "text/plain": [
       "count    5627.000000\n",
       "mean       14.000624\n",
       "std         6.585577\n",
       "min         0.000000\n",
       "25%         9.050000\n",
       "50%        14.290000\n",
       "75%        19.290000\n",
       "max        29.850000\n",
       "Name: dti, dtype: float64"
      ]
     },
     "execution_count": 549,
     "metadata": {},
     "output_type": "execute_result"
    }
   ],
   "source": [
    "loan_df['dti'].describe()"
   ]
  },
  {
   "cell_type": "code",
   "execution_count": 555,
   "metadata": {},
   "outputs": [
    {
     "data": {
      "text/plain": [
       "delinq_2yrs\n",
       "0    4936\n",
       "1     507\n",
       "2     130\n",
       "3      35\n",
       "4      13\n",
       "5       3\n",
       "6       1\n",
       "7       1\n",
       "8       1\n",
       "dtype: int64"
      ]
     },
     "execution_count": 555,
     "metadata": {},
     "output_type": "execute_result"
    }
   ],
   "source": [
    "loan_df.groupby(by='delinq_2yrs').size()"
   ]
  },
  {
   "cell_type": "code",
   "execution_count": 569,
   "metadata": {},
   "outputs": [
    {
     "data": {
      "text/plain": [
       "earliest_cr_line\n",
       "1969      3\n",
       "1970      7\n",
       "1971      5\n",
       "1972      8\n",
       "1973     12\n",
       "1974      6\n",
       "1975      9\n",
       "1976      4\n",
       "1977     13\n",
       "1978     23\n",
       "1979     31\n",
       "1980     16\n",
       "1981     20\n",
       "1982     32\n",
       "1983     53\n",
       "1984     49\n",
       "1985     66\n",
       "1986     53\n",
       "1987     77\n",
       "1988    106\n",
       "1989    112\n",
       "1990    125\n",
       "1991    143\n",
       "1992    135\n",
       "1993    195\n",
       "1994    275\n",
       "1995    303\n",
       "1996    299\n",
       "1997    374\n",
       "1998    415\n",
       "1999    442\n",
       "2000    500\n",
       "2001    356\n",
       "2002    255\n",
       "2003    225\n",
       "2004    229\n",
       "2005    239\n",
       "2006    224\n",
       "2007    144\n",
       "2008     28\n",
       "2062      2\n",
       "2063      1\n",
       "2065      1\n",
       "2066      2\n",
       "2067      5\n",
       "2068      5\n",
       "Name: earliest_cr_line, dtype: int64"
      ]
     },
     "execution_count": 569,
     "metadata": {},
     "output_type": "execute_result"
    }
   ],
   "source": [
    "# earliest_cr_line https://www.investopedia.com/terms/l/lineofcredit.asp\n",
    "loan_df['earliest_cr_line']\n",
    "temp = pd.to_datetime(loan_df['earliest_cr_line'], format='%b-%y').dt.year\n",
    "temp.groupby(temp).size()"
   ]
  },
  {
   "cell_type": "code",
   "execution_count": 570,
   "metadata": {},
   "outputs": [
    {
     "data": {
      "text/plain": [
       "0        3\n",
       "1       11\n",
       "2        2\n",
       "3        4\n",
       "4       14\n",
       "5        7\n",
       "6        7\n",
       "7        7\n",
       "8       14\n",
       "9       17\n",
       "10       9\n",
       "11      11\n",
       "12       7\n",
       "13       7\n",
       "14       7\n",
       "15       6\n",
       "16       9\n",
       "17      13\n",
       "18       7\n",
       "19       6\n",
       "20       9\n",
       "21       6\n",
       "22      12\n",
       "23      10\n",
       "24       9\n",
       "25       8\n",
       "26       8\n",
       "27       8\n",
       "28       7\n",
       "29       8\n",
       "        ..\n",
       "5597     4\n",
       "5598     5\n",
       "5599    15\n",
       "5600     4\n",
       "5601    12\n",
       "5602     8\n",
       "5603     4\n",
       "5604    27\n",
       "5605     6\n",
       "5606    14\n",
       "5607    15\n",
       "5608     9\n",
       "5609     7\n",
       "5610     6\n",
       "5611     3\n",
       "5612     3\n",
       "5613     5\n",
       "5614     3\n",
       "5615     9\n",
       "5616     8\n",
       "5617    15\n",
       "5618     5\n",
       "5619    16\n",
       "5620     4\n",
       "5621    13\n",
       "5622    11\n",
       "5623     9\n",
       "5624    11\n",
       "5625     9\n",
       "5626    17\n",
       "Name: open_acc, Length: 5627, dtype: int64"
      ]
     },
     "execution_count": 570,
     "metadata": {},
     "output_type": "execute_result"
    }
   ],
   "source": [
    "## open_acc\n",
    "loan_df['open_acc']"
   ]
  },
  {
   "cell_type": "code",
   "execution_count": 577,
   "metadata": {},
   "outputs": [
    {
     "data": {
      "text/plain": [
       "10"
      ]
     },
     "execution_count": 577,
     "metadata": {},
     "output_type": "execute_result"
    }
   ],
   "source": [
    "# pub_rec very important\n",
    "sum(loan_df['pub_rec'] == 2)"
   ]
  },
  {
   "cell_type": "code",
   "execution_count": 592,
   "metadata": {},
   "outputs": [
    {
     "data": {
      "text/plain": [
       "5627"
      ]
     },
     "execution_count": 592,
     "metadata": {},
     "output_type": "execute_result"
    }
   ],
   "source": [
    "#The number of accounts on which the borrower is now delinquent.\n",
    "sum(loan_df['acc_now_delinq'] ==0)"
   ]
  },
  {
   "cell_type": "code",
   "execution_count": 595,
   "metadata": {},
   "outputs": [
    {
     "data": {
      "text/plain": [
       "0"
      ]
     },
     "execution_count": 595,
     "metadata": {},
     "output_type": "execute_result"
    }
   ],
   "source": [
    "#chargeoff_within_12_mths : Number of charge-offs within 12 months\n",
    "loan_df['chargeoff_within_12_mths'] >=1"
   ]
  },
  {
   "cell_type": "code",
   "execution_count": 598,
   "metadata": {},
   "outputs": [
    {
     "data": {
      "text/plain": [
       "5627"
      ]
     },
     "execution_count": 598,
     "metadata": {},
     "output_type": "execute_result"
    }
   ],
   "source": [
    "#The past-due amount owed for the accounts on which the borrower is now delinquent.\n",
    "sum(loan_df['delinq_amnt'] == 0)"
   ]
  },
  {
   "cell_type": "code",
   "execution_count": 602,
   "metadata": {},
   "outputs": [
    {
     "data": {
      "text/plain": [
       "368"
      ]
     },
     "execution_count": 602,
     "metadata": {},
     "output_type": "execute_result"
    }
   ],
   "source": [
    "#Number of public record bankruptcies\n",
    "(loan_df['pub_rec_bankruptcies'] >= 1).sum()"
   ]
  },
  {
   "cell_type": "code",
   "execution_count": 610,
   "metadata": {},
   "outputs": [
    {
     "data": {
      "text/plain": [
       "5627"
      ]
     },
     "execution_count": 610,
     "metadata": {},
     "output_type": "execute_result"
    }
   ],
   "source": [
    "#Tax lein https://www.forbes.com/sites/jaredhecht/2018/08/29/what-is-a-tax-lien-and-how-does-it-affect-your-financing-options/#207e2f31687d\n",
    "loan_df['tax_liens'].fillna(value=0.0, inplace=True)\n",
    "sum(loan_df['tax_liens'] == 0.0)"
   ]
  },
  {
   "cell_type": "code",
   "execution_count": null,
   "metadata": {},
   "outputs": [],
   "source": []
  }
 ],
 "metadata": {
  "kernelspec": {
   "display_name": "Python 3",
   "language": "python",
   "name": "python3"
  },
  "language_info": {
   "codemirror_mode": {
    "name": "ipython",
    "version": 3
   },
   "file_extension": ".py",
   "mimetype": "text/x-python",
   "name": "python",
   "nbconvert_exporter": "python",
   "pygments_lexer": "ipython3",
   "version": "3.6.5"
  }
 },
 "nbformat": 4,
 "nbformat_minor": 2
}
